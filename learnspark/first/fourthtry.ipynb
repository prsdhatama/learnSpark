{
 "cells": [
  {
   "cell_type": "code",
   "execution_count": 13,
   "id": "08d53a09",
   "metadata": {},
   "outputs": [],
   "source": [
    "import pyspark\n",
    "from pyspark.sql import SparkSession"
   ]
  },
  {
   "cell_type": "code",
   "execution_count": 15,
   "id": "5fb3015d",
   "metadata": {},
   "outputs": [
    {
     "data": {
      "text/html": [
       "\n",
       "            <div>\n",
       "                <p><b>SparkSession - in-memory</b></p>\n",
       "                \n",
       "        <div>\n",
       "            <p><b>SparkContext</b></p>\n",
       "\n",
       "            <p><a href=\"http://host.docker.internal:4043\">Spark UI</a></p>\n",
       "\n",
       "            <dl>\n",
       "              <dt>Version</dt>\n",
       "                <dd><code>v3.4.0</code></dd>\n",
       "              <dt>Master</dt>\n",
       "                <dd><code>local[*]</code></dd>\n",
       "              <dt>AppName</dt>\n",
       "                <dd><code>dataframe</code></dd>\n",
       "            </dl>\n",
       "        </div>\n",
       "        \n",
       "            </div>\n",
       "        "
      ],
      "text/plain": [
       "<pyspark.sql.session.SparkSession at 0x171e1112950>"
      ]
     },
     "execution_count": 15,
     "metadata": {},
     "output_type": "execute_result"
    }
   ],
   "source": [
    "spark=SparkSession.builder.appName('dataframe').getOrCreate()\n",
    "spark"
   ]
  },
  {
   "cell_type": "code",
   "execution_count": 20,
   "id": "7b7a1e83",
   "metadata": {},
   "outputs": [
    {
     "name": "stdout",
     "output_type": "stream",
     "text": [
      "+---------+------------+------+\n",
      "|     Name| Departments|Salary|\n",
      "+---------+------------+------+\n",
      "|    Krish|Data Science| 10000|\n",
      "|    Krish|         IOT|  5000|\n",
      "|   Mahesh|    Big Data|  4000|\n",
      "|    Krish|    Big Data|  4000|\n",
      "|   Mahesh|Data Science|  3000|\n",
      "|Sudhanshu|Data Science| 20000|\n",
      "|Sudhanshu|         IOT| 10000|\n",
      "|Sudhanshu|    Big Data|  5000|\n",
      "|    Sunny|Data Science| 10000|\n",
      "+---------+------------+------+\n",
      "\n",
      "root\n",
      " |-- Name: string (nullable = true)\n",
      " |-- Departments: string (nullable = true)\n",
      " |-- Salary: integer (nullable = true)\n",
      "\n",
      "9\n",
      "<class 'pyspark.sql.dataframe.DataFrame'>\n"
     ]
    },
    {
     "data": {
      "text/plain": [
       "['Name', 'Departments', 'Salary']"
      ]
     },
     "execution_count": 20,
     "metadata": {},
     "output_type": "execute_result"
    }
   ],
   "source": [
    "filepath = r'D:\\python\\meTryPython\\learnspark\\first\\resources\\test3.csv'\n",
    "df_spark=spark.read.option(\"nullValue\", \"null\").csv(filepath,header=True,inferSchema=True)\n",
    "df_spark.show()\n",
    "df_spark.printSchema()\n",
    "print(df_spark.count())\n",
    "print(type(df_spark))\n",
    "df_spark.columns"
   ]
  },
  {
   "cell_type": "markdown",
   "id": "750d7469",
   "metadata": {},
   "source": [
    "**GroupBhay**"
   ]
  },
  {
   "cell_type": "code",
   "execution_count": 29,
   "id": "f3977fcd",
   "metadata": {},
   "outputs": [
    {
     "data": {
      "text/plain": [
       "<pyspark.sql.group.GroupedData at 0x171e1111d10>"
      ]
     },
     "execution_count": 29,
     "metadata": {},
     "output_type": "execute_result"
    }
   ],
   "source": [
    "df_spark.groupBy('Name')"
   ]
  },
  {
   "cell_type": "code",
   "execution_count": 39,
   "id": "25ca5c65",
   "metadata": {},
   "outputs": [
    {
     "name": "stdout",
     "output_type": "stream",
     "text": [
      "+---------+------------+-----------+\n",
      "|     Name| Departments|sum(Salary)|\n",
      "+---------+------------+-----------+\n",
      "|   Mahesh|Data Science|       3000|\n",
      "|Sudhanshu|Data Science|      20000|\n",
      "|    Krish|Data Science|      10000|\n",
      "|   Mahesh|    Big Data|       4000|\n",
      "|    Sunny|Data Science|      10000|\n",
      "|Sudhanshu|         IOT|      10000|\n",
      "|    Krish|         IOT|       5000|\n",
      "|Sudhanshu|    Big Data|       5000|\n",
      "|    Krish|    Big Data|       4000|\n",
      "+---------+------------+-----------+\n",
      "\n",
      "+---------+-----------+\n",
      "|     Name|max(Salary)|\n",
      "+---------+-----------+\n",
      "|Sudhanshu|      20000|\n",
      "|    Sunny|      10000|\n",
      "|    Krish|      10000|\n",
      "|   Mahesh|       4000|\n",
      "+---------+-----------+\n",
      "\n",
      "+---------+-----------+\n",
      "|     Name|min(Salary)|\n",
      "+---------+-----------+\n",
      "|Sudhanshu|       5000|\n",
      "|    Sunny|      10000|\n",
      "|    Krish|       4000|\n",
      "|   Mahesh|       3000|\n",
      "+---------+-----------+\n",
      "\n",
      "+---------+------------------+\n",
      "|     Name|       avg(Salary)|\n",
      "+---------+------------------+\n",
      "|Sudhanshu|11666.666666666666|\n",
      "|    Sunny|           10000.0|\n",
      "|    Krish| 6333.333333333333|\n",
      "|   Mahesh|            3500.0|\n",
      "+---------+------------------+\n",
      "\n"
     ]
    }
   ],
   "source": [
    "df_spark.groupBy('Name','Departments').sum().show()\n",
    "df_spark.groupBy('Name').max().show()\n",
    "df_spark.groupBy('Name').min().show()\n",
    "df_spark.groupBy('Name').avg().show()"
   ]
  },
  {
   "cell_type": "code",
   "execution_count": 38,
   "id": "8f80e6d7",
   "metadata": {},
   "outputs": [
    {
     "name": "stdout",
     "output_type": "stream",
     "text": [
      "+------------+-----------+\n",
      "| Departments|sum(Salary)|\n",
      "+------------+-----------+\n",
      "|         IOT|      15000|\n",
      "|    Big Data|      13000|\n",
      "|Data Science|      43000|\n",
      "+------------+-----------+\n",
      "\n"
     ]
    }
   ],
   "source": [
    "df_spark.groupBy('Departments').sum().show()"
   ]
  },
  {
   "cell_type": "code",
   "execution_count": 59,
   "id": "e65765d5",
   "metadata": {},
   "outputs": [],
   "source": [
    "df_spark = df_spark['Salary']"
   ]
  },
  {
   "cell_type": "code",
   "execution_count": 51,
   "id": "52817053",
   "metadata": {},
   "outputs": [
    {
     "name": "stdout",
     "output_type": "stream",
     "text": [
      "+-----------------+----------------+\n",
      "|   stddev(Salary)|avg(Departments)|\n",
      "+-----------------+----------------+\n",
      "|5372.253820428732|            null|\n",
      "+-----------------+----------------+\n",
      "\n"
     ]
    }
   ],
   "source": [
    "df_spark.agg({'Salary':'std','Departments':'mean'}).show()"
   ]
  },
  {
   "cell_type": "code",
   "execution_count": 61,
   "id": "42caca74",
   "metadata": {},
   "outputs": [
    {
     "name": "stdout",
     "output_type": "stream",
     "text": [
      "+---------+------------+------+---------------+\n",
      "|     Name| Departments|Salary|IncreasedSalary|\n",
      "+---------+------------+------+---------------+\n",
      "|    Krish|Data Science| 10000|          20000|\n",
      "|    Krish|         IOT|  5000|          15000|\n",
      "|   Mahesh|    Big Data|  4000|          14000|\n",
      "|    Krish|    Big Data|  4000|          14000|\n",
      "|   Mahesh|Data Science|  3000|          13000|\n",
      "|Sudhanshu|Data Science| 20000|          30000|\n",
      "|Sudhanshu|         IOT| 10000|          20000|\n",
      "|Sudhanshu|    Big Data|  5000|          15000|\n",
      "|    Sunny|Data Science| 10000|          20000|\n",
      "+---------+------------+------+---------------+\n",
      "\n"
     ]
    }
   ],
   "source": [
    "df_spark = df_spark.withColumn(\"IncreasedSalary\", col(\"Salary\") + 10000)\n",
    "df_spark.show()"
   ]
  },
  {
   "cell_type": "code",
   "execution_count": null,
   "id": "a797f7fe",
   "metadata": {},
   "outputs": [],
   "source": [
    "df_spark.agg({'Salary':'std','Salary':'mean'}).show()"
   ]
  }
 ],
 "metadata": {
  "kernelspec": {
   "display_name": "Python 3 (ipykernel)",
   "language": "python",
   "name": "python3"
  },
  "language_info": {
   "codemirror_mode": {
    "name": "ipython",
    "version": 3
   },
   "file_extension": ".py",
   "mimetype": "text/x-python",
   "name": "python",
   "nbconvert_exporter": "python",
   "pygments_lexer": "ipython3",
   "version": "3.11.3"
  }
 },
 "nbformat": 4,
 "nbformat_minor": 5
}
