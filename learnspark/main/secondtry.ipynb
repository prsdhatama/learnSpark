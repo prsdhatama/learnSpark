{
 "cells": [
  {
   "cell_type": "code",
   "execution_count": 174,
   "id": "63c4df9b",
   "metadata": {},
   "outputs": [
    {
     "name": "stdout",
     "output_type": "stream",
     "text": [
      "+---------+---+----------+------+\n",
      "|     Name|Age|Experience|Salary|\n",
      "+---------+---+----------+------+\n",
      "|    Krish| 31|        10| 30000|\n",
      "|Sundhansh| 30|         8| 25000|\n",
      "|    Sunny| 29|         4| 20000|\n",
      "|     Paul| 24|         3| 20000|\n",
      "|   Harsha| 21|         1| 15000|\n",
      "|  Shubham| 23|         2| 18000|\n",
      "|     null| 34|        10| 38000|\n",
      "|     null| 36|      null|  null|\n",
      "+---------+---+----------+------+\n",
      "\n",
      "root\n",
      " |-- Name: string (nullable = true)\n",
      " |-- Age: integer (nullable = true)\n",
      " |-- Experience: integer (nullable = true)\n",
      " |-- Salary: integer (nullable = true)\n",
      "\n",
      "8\n",
      "<class 'pyspark.sql.dataframe.DataFrame'>\n"
     ]
    },
    {
     "data": {
      "text/plain": [
       "['Name', 'Age', 'Experience', 'Salary']"
      ]
     },
     "execution_count": 174,
     "metadata": {},
     "output_type": "execute_result"
    }
   ],
   "source": [
    "import pyspark\n",
    "from pyspark.sql import SparkSession"
   ]
  },
  {
   "cell_type": "code",
   "execution_count": 177,
   "id": "0d535ca2",
   "metadata": {},
   "outputs": [
    {
     "data": {
      "text/html": [
       "\n",
       "            <div>\n",
       "                <p><b>SparkSession - in-memory</b></p>\n",
       "                \n",
       "        <div>\n",
       "            <p><b>SparkContext</b></p>\n",
       "\n",
       "            <p><a href=\"http://host.docker.internal:4040\">Spark UI</a></p>\n",
       "\n",
       "            <dl>\n",
       "              <dt>Version</dt>\n",
       "                <dd><code>v3.4.0</code></dd>\n",
       "              <dt>Master</dt>\n",
       "                <dd><code>local[*]</code></dd>\n",
       "              <dt>AppName</dt>\n",
       "                <dd><code>Yudi Dataframe</code></dd>\n",
       "            </dl>\n",
       "        </div>\n",
       "        \n",
       "            </div>\n",
       "        "
      ],
      "text/plain": [
       "<pyspark.sql.session.SparkSession at 0x1970e587f10>"
      ]
     },
     "execution_count": 177,
     "metadata": {},
     "output_type": "execute_result"
    }
   ],
   "source": [
    "spark=SparkSession.builder.appName('Precums').getOrCreate()\n",
    "spark"
   ]
  },
  {
   "cell_type": "code",
   "execution_count": 178,
   "id": "b50900a3",
   "metadata": {},
   "outputs": [
    {
     "name": "stdout",
     "output_type": "stream",
     "text": [
      "+---------+---+----------+------+\n",
      "|     Name|Age|Experience|Salary|\n",
      "+---------+---+----------+------+\n",
      "|    Krish| 31|        10| 30000|\n",
      "|Sundhansh| 30|         8| 25000|\n",
      "|    Sunny| 29|         4| 20000|\n",
      "|     Paul| 24|         3| 20000|\n",
      "|   Harsha| 21|         1| 15000|\n",
      "|  Shubham| 23|         2| 18000|\n",
      "|     null| 34|        10| 38000|\n",
      "|     null| 36|      null|  null|\n",
      "+---------+---+----------+------+\n",
      "\n",
      "root\n",
      " |-- Name: string (nullable = true)\n",
      " |-- Age: integer (nullable = true)\n",
      " |-- Experience: integer (nullable = true)\n",
      " |-- Salary: integer (nullable = true)\n",
      "\n",
      "8\n",
      "<class 'pyspark.sql.dataframe.DataFrame'>\n"
     ]
    },
    {
     "data": {
      "text/plain": [
       "['Name', 'Age', 'Experience', 'Salary']"
      ]
     },
     "execution_count": 178,
     "metadata": {},
     "output_type": "execute_result"
    }
   ],
   "source": [
    "filepath = r'D:\\python\\meTryPython\\learnspark\\first\\resources\\test2.csv'\n",
    "df_spark=spark.read.option(\"nullValue\", \"null\").csv(filepath,header=True,inferSchema=True)\n",
    "df_spark.show()\n",
    "df_spark.printSchema()\n",
    "print(df_spark.count())\n",
    "print(type(df_spark))\n",
    "df_spark.columns"
   ]
  },
  {
   "cell_type": "markdown",
   "id": "74b3e8ab",
   "metadata": {},
   "source": [
    "**inferSchema = True, menentukan schema dari tablenya yang dibaca. penting**"
   ]
  },
  {
   "cell_type": "code",
   "execution_count": 173,
   "id": "1d7c6606",
   "metadata": {},
   "outputs": [
    {
     "name": "stdout",
     "output_type": "stream",
     "text": [
      "+---------+---+----------+------+\n",
      "|     Name|Age|Experience|Salary|\n",
      "+---------+---+----------+------+\n",
      "|    Krish| 31|        10| 30000|\n",
      "|Sundhansh| 30|         8| 25000|\n",
      "|    Sunny| 29|         4| 20000|\n",
      "|     Paul| 24|         3| 20000|\n",
      "|   Harsha| 21|         1| 15000|\n",
      "|  Shubham| 23|         2| 18000|\n",
      "|     null| 34|        10| 38000|\n",
      "|     null| 36|      null|  null|\n",
      "+---------+---+----------+------+\n",
      "\n",
      "root\n",
      " |-- Name: string (nullable = true)\n",
      " |-- Age: integer (nullable = true)\n",
      " |-- Experience: integer (nullable = true)\n",
      " |-- Salary: integer (nullable = true)\n",
      "\n",
      "8\n",
      "<class 'pyspark.sql.dataframe.DataFrame'>\n"
     ]
    },
    {
     "data": {
      "text/plain": [
       "['Name', 'Age', 'Experience', 'Salary']"
      ]
     },
     "execution_count": 173,
     "metadata": {},
     "output_type": "execute_result"
    }
   ],
   "source": [
    "filepath = r'D:\\python\\meTryPython\\learnspark\\first\\resources\\test2.csv'\n",
    "df_spark=spark.read.option(\"nullValue\", \"null\").csv(filepath,header=True,inferSchema=True)\n",
    "df_spark.show()\n",
    "df_spark.printSchema()\n",
    "print(df_spark.count())\n",
    "print(type(df_spark))\n",
    "df_spark.columns"
   ]
  },
  {
   "cell_type": "markdown",
   "id": "0b33e8c3",
   "metadata": {},
   "source": [
    "**you can specify how spark will read the null value**"
   ]
  },
  {
   "cell_type": "code",
   "execution_count": 162,
   "id": "c8daaa68",
   "metadata": {},
   "outputs": [],
   "source": [
    "# df_spark = spark.read \\\n",
    "#     .option(\"header\", True) \\\n",
    "#     .option(\"nullValue\", \"null\") \\\n",
    "#     .csv(filepath)"
   ]
  },
  {
   "cell_type": "code",
   "execution_count": 163,
   "id": "53e1a3c5",
   "metadata": {},
   "outputs": [
    {
     "data": {
      "text/plain": [
       "DataFrame[Name: string, Age: int, Experience: int, Salary: int]"
      ]
     },
     "execution_count": 163,
     "metadata": {},
     "output_type": "execute_result"
    }
   ],
   "source": [
    "df_spark"
   ]
  },
  {
   "cell_type": "code",
   "execution_count": 164,
   "id": "ef85dee0",
   "metadata": {},
   "outputs": [
    {
     "name": "stdout",
     "output_type": "stream",
     "text": [
      "+---+----------+------+\n",
      "|Age|Experience|Salary|\n",
      "+---+----------+------+\n",
      "| 31|        10| 30000|\n",
      "| 30|         8| 25000|\n",
      "| 29|         4| 20000|\n",
      "| 24|         3| 20000|\n",
      "| 21|         1| 15000|\n",
      "| 23|         2| 18000|\n",
      "| 34|        10| 38000|\n",
      "| 36|      null|  null|\n",
      "+---+----------+------+\n",
      "\n"
     ]
    }
   ],
   "source": [
    "df_spark.drop('Name').show()"
   ]
  },
  {
   "cell_type": "code",
   "execution_count": 165,
   "id": "620d4b49",
   "metadata": {},
   "outputs": [
    {
     "name": "stdout",
     "output_type": "stream",
     "text": [
      "+---------+---+----------+------+\n",
      "|     Name|Age|Experience|Salary|\n",
      "+---------+---+----------+------+\n",
      "|    Krish| 31|        10| 30000|\n",
      "|Sundhansh| 30|         8| 25000|\n",
      "|    Sunny| 29|         4| 20000|\n",
      "|     Paul| 24|         3| 20000|\n",
      "|   Harsha| 21|         1| 15000|\n",
      "|  Shubham| 23|         2| 18000|\n",
      "+---------+---+----------+------+\n",
      "\n"
     ]
    }
   ],
   "source": [
    "df_spark.na.drop().show()"
   ]
  },
  {
   "cell_type": "code",
   "execution_count": 166,
   "id": "f3aabedb",
   "metadata": {},
   "outputs": [
    {
     "name": "stdout",
     "output_type": "stream",
     "text": [
      "+---------+---+----------+------+\n",
      "|     Name|Age|Experience|Salary|\n",
      "+---------+---+----------+------+\n",
      "|    Krish| 31|        10| 30000|\n",
      "|Sundhansh| 30|         8| 25000|\n",
      "|    Sunny| 29|         4| 20000|\n",
      "|     Paul| 24|         3| 20000|\n",
      "|   Harsha| 21|         1| 15000|\n",
      "|  Shubham| 23|         2| 18000|\n",
      "|     null| 34|        10| 38000|\n",
      "|     null| 36|      null|  null|\n",
      "+---------+---+----------+------+\n",
      "\n",
      "+---------+---+----------+------+\n",
      "|     Name|Age|Experience|Salary|\n",
      "+---------+---+----------+------+\n",
      "|    Krish| 31|        10| 30000|\n",
      "|Sundhansh| 30|         8| 25000|\n",
      "|    Sunny| 29|         4| 20000|\n",
      "|     Paul| 24|         3| 20000|\n",
      "|   Harsha| 21|         1| 15000|\n",
      "|  Shubham| 23|         2| 18000|\n",
      "+---------+---+----------+------+\n",
      "\n",
      "+---------+---+----------+------+\n",
      "|     Name|Age|Experience|Salary|\n",
      "+---------+---+----------+------+\n",
      "|    Krish| 31|        10| 30000|\n",
      "|Sundhansh| 30|         8| 25000|\n",
      "|    Sunny| 29|         4| 20000|\n",
      "|     Paul| 24|         3| 20000|\n",
      "|   Harsha| 21|         1| 15000|\n",
      "|  Shubham| 23|         2| 18000|\n",
      "+---------+---+----------+------+\n",
      "\n"
     ]
    }
   ],
   "source": [
    "df_spark.na.drop(how='all').show()#milih cmn row yg semua kolomnya null\n",
    "df_spark.na.drop(how='any').show() #milih apakah minimal ada satu null bakal didrop\n",
    "df_spark.na.drop(how=\"any\",subset=['Name']).show() #milih kolom mana yg disortir"
   ]
  },
  {
   "cell_type": "code",
   "execution_count": 167,
   "id": "90f6d86c",
   "metadata": {},
   "outputs": [
    {
     "name": "stdout",
     "output_type": "stream",
     "text": [
      "+---------------+---+----------+------+\n",
      "|           Name|Age|Experience|Salary|\n",
      "+---------------+---+----------+------+\n",
      "|          Krish| 31|        10| 30000|\n",
      "|      Sundhansh| 30|         8| 25000|\n",
      "|          Sunny| 29|         4| 20000|\n",
      "|           Paul| 24|         3| 20000|\n",
      "|         Harsha| 21|         1| 15000|\n",
      "|        Shubham| 23|         2| 18000|\n",
      "|Missing nih Bos| 34|        10| 38000|\n",
      "|Missing nih Bos| 36|      null|  null|\n",
      "+---------------+---+----------+------+\n",
      "\n"
     ]
    }
   ],
   "source": [
    "df_spark.na.fill('Missing nih Bos').show()"
   ]
  },
  {
   "cell_type": "markdown",
   "id": "57021dc6",
   "metadata": {},
   "source": [
    "**Missing NA value kaya di bootcamp**"
   ]
  },
  {
   "cell_type": "code",
   "execution_count": 171,
   "id": "1cfe4e91",
   "metadata": {},
   "outputs": [],
   "source": [
    "from pyspark.ml.feature import Imputer\n",
    "\n",
    "imputer = Imputer(\n",
    "            inputCols=['Age','Experience','Salary'],\n",
    "            outputCols=[\"{}_imputed\".format(c)for c in ['Age','Experience','Salary']]\n",
    ").setStrategy(\"median\")"
   ]
  },
  {
   "cell_type": "code",
   "execution_count": 169,
   "id": "5692a1d0",
   "metadata": {},
   "outputs": [
    {
     "data": {
      "text/plain": [
       "DataFrame[Name: string, Age: int, Experience: int, Salary: int]"
      ]
     },
     "execution_count": 169,
     "metadata": {},
     "output_type": "execute_result"
    }
   ],
   "source": [
    "df_spark"
   ]
  },
  {
   "cell_type": "code",
   "execution_count": 172,
   "id": "01ac0ce6",
   "metadata": {},
   "outputs": [
    {
     "name": "stdout",
     "output_type": "stream",
     "text": [
      "+---------+---+----------+------+-----------+------------------+--------------+\n",
      "|     Name|Age|Experience|Salary|Age_imputed|Experience_imputed|Salary_imputed|\n",
      "+---------+---+----------+------+-----------+------------------+--------------+\n",
      "|    Krish| 31|        10| 30000|         31|                10|         30000|\n",
      "|Sundhansh| 30|         8| 25000|         30|                 8|         25000|\n",
      "|    Sunny| 29|         4| 20000|         29|                 4|         20000|\n",
      "|     Paul| 24|         3| 20000|         24|                 3|         20000|\n",
      "|   Harsha| 21|         1| 15000|         21|                 1|         15000|\n",
      "|  Shubham| 23|         2| 18000|         23|                 2|         18000|\n",
      "|     null| 34|        10| 38000|         34|                10|         38000|\n",
      "|     null| 36|      null|  null|         36|                 4|         20000|\n",
      "+---------+---+----------+------+-----------+------------------+--------------+\n",
      "\n"
     ]
    }
   ],
   "source": [
    "imputer.fit(df_spark).transform(df_spark).show()"
   ]
  }
 ],
 "metadata": {
  "kernelspec": {
   "display_name": "Python 3 (ipykernel)",
   "language": "python",
   "name": "python3"
  },
  "language_info": {
   "codemirror_mode": {
    "name": "ipython",
    "version": 3
   },
   "file_extension": ".py",
   "mimetype": "text/x-python",
   "name": "python",
   "nbconvert_exporter": "python",
   "pygments_lexer": "ipython3",
   "version": "3.11.3"
  }
 },
 "nbformat": 4,
 "nbformat_minor": 5
}
